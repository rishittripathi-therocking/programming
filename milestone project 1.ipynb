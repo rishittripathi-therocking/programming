{
 "cells": [
  {
   "cell_type": "code",
   "execution_count": 35,
   "metadata": {},
   "outputs": [],
   "source": [
    "from IPython.display import clear_output\n",
    "def display_board(board):\n",
    "    clear_output()\n",
    "    print('1  |2  |3')\n",
    "    print(' ' + board[1] + ' | '+ board[2] + ' | ' + board[3])\n",
    "    print('   |   |')\n",
    "    print('-----------')\n",
    "    print('4  |5  |6')\n",
    "    print(' ' + board[4] + ' | '+ board[5] + ' | ' + board[6])\n",
    "    print('   |   |')\n",
    "    print('-----------')\n",
    "    print('7  |8  |9')\n",
    "    print(' ' + board[7] + ' | '+ board[8] + ' | ' + board[9])\n",
    "    print('   |   |')\n",
    "    "
   ]
  },
  {
   "cell_type": "code",
   "execution_count": 36,
   "metadata": {},
   "outputs": [],
   "source": [
    "def player_input():\n",
    "    marker=''\n",
    "    while not (marker=='O' or marker=='X'):\n",
    "        marker=input(\"Player 1:Do you want to be X or O?\").upper()\n",
    "    if marker=='X':\n",
    "        return ('X','O')\n",
    "    else:\n",
    "        return ('O','X')"
   ]
  },
  {
   "cell_type": "code",
   "execution_count": 37,
   "metadata": {},
   "outputs": [],
   "source": [
    "def place_marker(board,marker,position):\n",
    "    board[position]=marker"
   ]
  },
  {
   "cell_type": "code",
   "execution_count": 38,
   "metadata": {},
   "outputs": [],
   "source": [
    "def win_check(board,mark):\n",
    "    return ((board[7]==mark and board[8]==mark and board[9]==mark) or \n",
    "    (board[4]==mark and board[5]==mark and board[6]==mark) or \n",
    "    (board[1]==mark and board[2]==mark and board[3]==mark) or \n",
    "    (board[7]==mark and board[4]==mark and board[1]==mark) or \n",
    "    (board[8]==mark and board[5]==mark and board[2]==mark) or \n",
    "    (board[9]==mark and board[6]==mark and board[3]==mark) or \n",
    "    (board[7]==mark and board[5]==mark and board[3]==mark) or \n",
    "    (board[1]==mark and board[5]==mark and board[9]==mark))"
   ]
  },
  {
   "cell_type": "code",
   "execution_count": 39,
   "metadata": {},
   "outputs": [],
   "source": [
    "import random\n",
    "def choose_first():\n",
    "    if random.randint(0,1)==0:\n",
    "        print(\"Player 1 will go first\")\n",
    "        return 'Player 1'\n",
    "    else:\n",
    "        print(\"Player 2 will go first\")\n",
    "        return 'Player 2'"
   ]
  },
  {
   "cell_type": "code",
   "execution_count": 40,
   "metadata": {},
   "outputs": [],
   "source": [
    "def space_check(board,position):\n",
    "    return board[position]==' '"
   ]
  },
  {
   "cell_type": "code",
   "execution_count": 41,
   "metadata": {},
   "outputs": [],
   "source": [
    "def full_board_check(board):\n",
    "    for i in range(1,10):\n",
    "        if space_check(board,i):\n",
    "            return False\n",
    "    return True"
   ]
  },
  {
   "cell_type": "code",
   "execution_count": 42,
   "metadata": {},
   "outputs": [],
   "source": [
    "def player_choice(board):\n",
    "    position=' '\n",
    "    while position not in '1 2 3 4 5 6 7 8 9'.split() or not space_check(board,int(position)):\n",
    "        position = input('Choose your next position:(1-9) ')\n",
    "    return int(position)"
   ]
  },
  {
   "cell_type": "code",
   "execution_count": 43,
   "metadata": {},
   "outputs": [],
   "source": [
    "def replay():\n",
    "    return input(\"Do you want to play again? Enter Yes or No\").lower().startswith('y')"
   ]
  },
  {
   "cell_type": "code",
   "execution_count": null,
   "metadata": {},
   "outputs": [
    {
     "name": "stdout",
     "output_type": "stream",
     "text": [
      "1  |2  |3\n",
      " O | X | O\n",
      "   |   |\n",
      "-----------\n",
      "4  |5  |6\n",
      " X | O | X\n",
      "   |   |\n",
      "-----------\n",
      "7  |8  |9\n",
      "   |   |  \n",
      "   |   |\n",
      "Choose your next position:(1-9) 7\n",
      "1  |2  |3\n",
      " O | X | O\n",
      "   |   |\n",
      "-----------\n",
      "4  |5  |6\n",
      " X | O | X\n",
      "   |   |\n",
      "-----------\n",
      "7  |8  |9\n",
      " O |   |  \n",
      "   |   |\n",
      "Congratulations Player 2 You won the Game\n"
     ]
    }
   ],
   "source": [
    "from IPython.display import clear_output\n",
    "print(\"Welcome to Tic Tac Toe\")\n",
    "while True:\n",
    "    theBoard=[' ']*10\n",
    "    player1_marker,player2_marker=player_input()\n",
    "    turn = choose_first()\n",
    "    print(turn,\"will go first\")\n",
    "    game_on = True\n",
    "    while game_on:\n",
    "        if turn == \"Player 1\":\n",
    "            \n",
    "            display_board(theBoard)\n",
    "            position=player_choice(theBoard)\n",
    "            place_marker(theBoard,player1_marker,position )\n",
    "            if win_check(theBoard,player1_marker):\n",
    "                display_board(theBoard)\n",
    "                print(\"Congratulations Player 1 You won the Game\")\n",
    "                game_on=False\n",
    "            else:\n",
    "                if full_board_check(theBoard):\n",
    "                    display_board(theBoard)\n",
    "                    print(\"The game is Tied/Draw\")\n",
    "                    break\n",
    "                else:\n",
    "                    turn = 'Player 2'\n",
    "                    print(turn,\"now\")\n",
    "        else:\n",
    "            #player 2's turn now\n",
    "            \n",
    "            display_board(theBoard)\n",
    "            position=player_choice(theBoard)\n",
    "            place_marker(theBoard,player2_marker,position )\n",
    "            \n",
    "            if win_check(theBoard,player2_marker):\n",
    "                display_board(theBoard)\n",
    "                print(\"Congratulations Player 2 You won the Game\")\n",
    "                game_on=False\n",
    "            else:\n",
    "                if full_board_check(theBoard):\n",
    "                    display_board(theBoard)\n",
    "                    print(\"The game is Tied/Draw\")\n",
    "                    break\n",
    "                else:\n",
    "                    turn = 'Player 1'\n",
    "                    print(turn,\"now\")\n",
    "    if not replay():\n",
    "        break\n",
    "            \n",
    "        "
   ]
  },
  {
   "cell_type": "code",
   "execution_count": null,
   "metadata": {},
   "outputs": [],
   "source": []
  }
 ],
 "metadata": {
  "kernelspec": {
   "display_name": "Python 3",
   "language": "python",
   "name": "python3"
  },
  "language_info": {
   "codemirror_mode": {
    "name": "ipython",
    "version": 3
   },
   "file_extension": ".py",
   "mimetype": "text/x-python",
   "name": "python",
   "nbconvert_exporter": "python",
   "pygments_lexer": "ipython3",
   "version": "3.7.3"
  }
 },
 "nbformat": 4,
 "nbformat_minor": 2
}
